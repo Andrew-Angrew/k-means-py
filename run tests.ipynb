{
 "cells": [
  {
   "cell_type": "code",
   "execution_count": 7,
   "metadata": {
    "collapsed": false
   },
   "outputs": [],
   "source": [
    "import numpy as np\n",
    "import subprocess\n",
    "from time import clock\n",
    "from matplotlib import pyplot as plt\n",
    "import pickle\n",
    "\n",
    "from sklearn.cluster import KMeans\n",
    "from dummy import dist\n",
    "from classic import classic_k_means\n",
    "from yinyang import yinyang_k_means\n",
    "from my_k_means import my_k_means\n",
    "from my_k_means_turbo import turbo\n",
    "from get_data import generate, mnist, kegg_net"
   ]
  },
  {
   "cell_type": "markdown",
   "metadata": {},
   "source": [
    "Preparing data"
   ]
  },
  {
   "cell_type": "code",
   "execution_count": 8,
   "metadata": {
    "collapsed": false
   },
   "outputs": [],
   "source": [
    "n, d, seed = 16384, 64, 42\n",
    "data1 = generate(n, d, seed = seed)\n",
    "data2 = generate(n, d, true_d = 6, true_k = 200, noise = 0.025, seed = seed)\n",
    "data3 = mnist(n, d, noise = 0.01, seed = seed)\n",
    "data4 = kegg_net(n, noise = 0.01, seed = seed)"
   ]
  },
  {
   "cell_type": "markdown",
   "metadata": {},
   "source": [
    "Settings"
   ]
  },
  {
   "cell_type": "code",
   "execution_count": 9,
   "metadata": {
    "collapsed": false
   },
   "outputs": [],
   "source": [
    "shutdown_after = True\n",
    "\n",
    "datasets = [data1, data2, data3, data4]\n",
    "datanames = [\"full_random\", \"clustered_random\", \"mnist\", \"kegg_net\"]\n",
    "algs = [classic_k_means, yinyang_k_means, my_k_means, turbo]\n",
    "algnames = [\"classic\", \"yinyang\", \"my_k_means\", \"turbo\"]\n",
    "k_range = [4, 8, 16, 32, 64, 128, 256]\n"
   ]
  },
  {
   "cell_type": "code",
   "execution_count": 10,
   "metadata": {
    "collapsed": false
   },
   "outputs": [
    {
     "name": "stdout",
     "output_type": "stream",
     "text": [
      "Shutdown after execution?\n",
      "yes\n",
      "n,d =  (16384, 64)\n",
      "n,d =  (16384, 64)\n",
      "n,d =  (16384, 64)\n",
      "n,d =  (16384, 28)\n"
     ]
    }
   ],
   "source": [
    "if shutdown_after:\n",
    "    confirmation = input(\"Shutdown after execution?\\n\")\n",
    "else:\n",
    "    confirmation = \"no\"\n",
    "    \n",
    "log = {}\n",
    "\n",
    "for data, dataname in zip(datasets, datanames):\n",
    "    print(\"n,d = \", data.shape)\n",
    "    for k in k_range:\n",
    "        results = {}\n",
    "        answers = {}\n",
    "        for alg, algname in zip(algs, algnames):\n",
    "            start = clock()\n",
    "            if algname == \"classic\":\n",
    "                cl = alg(data, k, empty_strat = 'farthest point')\n",
    "            else:\n",
    "                cl = alg(data, k, empty_strat = 'farthest point', groups_strat = 'clustered')\n",
    "            cl.fit()\n",
    "            cl_t = clock() - start\n",
    "            answers[algname] = {\"labels\" : cl.best, \n",
    "                                \"centers\" : cl.clusters if (algname in [\"classic\", \"yinyang\"]) else cl.clusters[-1]}\n",
    "            results[algname] = {\"dist_calcs\" : np.array(cl.dist_calcs), \n",
    "                                \"assign_times\" : np.array(cl.assign_times), \n",
    "                                \"migrations\" : np.array(cl.migrations),\n",
    "                                \"total_time\": cl_t}\n",
    "        #checking consistenсy\n",
    "        results[\"label_consistency\"] = np.array([[np.sum(answers[name1][\"labels\"] == answers[name2][\"labels\"]) \n",
    "                                                  for name1 in algnames] for name2 in algnames])\n",
    "        results[\"distance_consistency\"] = np.array([[np.sum((answers[name1][\"centers\"] - answers[name2][\"centers\"])**2) \n",
    "                                                     for name1 in algnames] for name2 in algnames])\n",
    "        #dynamics\n",
    "        results[\"migrations\"] = np.array(cl.migrations)\n",
    "        results[\"stable_clusters_num\"] = np.array([np.sum([1 for dc in cl.clusters[t] - cl.clusters[t+1] \n",
    "                                                           if sum(dc**2) == 0.]) \n",
    "                                                   for t in range(len(cl.clusters) - 1)])\n",
    "        results[\"shape\"] = data.shape\n",
    "        log[(dataname, k)] = results\n",
    "        \n",
    "with open('log.pkl', 'wb') as f:\n",
    "    pickle.dump(log, f) \n",
    "del log"
   ]
  },
  {
   "cell_type": "code",
   "execution_count": 11,
   "metadata": {
    "collapsed": true
   },
   "outputs": [],
   "source": [
    "if confirmation == \"yes\":\n",
    "    p = subprocess.call('shutdown -s -t 120')"
   ]
  },
  {
   "cell_type": "code",
   "execution_count": 6,
   "metadata": {
    "collapsed": true
   },
   "outputs": [
    {
     "data": {
      "text/plain": [
       "'\\nstart = clock()\\nstandard = KMeans(n_clusters = k, init = data[:k].copy(), \\n           algorithm = \\'full\\', n_init = 1, tol = 0.,\\n           precompute_distances = False).fit(data)\\nstd_t = clock() - start\\nprint(\"{:.4}\".format(std_t).ljust(8), end = \" | \")\\n\\nstart = clock()\\nElkan = KMeans(n_clusters = k, init = data[:k].copy(), \\n        algorithm = \\'elkan\\', n_init = 1, tol = 0., \\n        precompute_distances = False).fit(data) \\nElkan_t = clock() - start\\nprint(\"{:.4}\".format(std_t/Elkan_t).ljust(8))\\n\\n\\n\\nprint(max([dist(clas.clusters[i],yin.clusters[i]) for i in range(k)]), \\nsum(clas.best == yin.best), end = \" | \")\\n\\nprint(max([dist(clas.clusters[i],my.clusters[-1][i]) for i in range(k)]), \\nsum(clas.best == my.best), end = \" | \")\\n\\nprint(max([dist(clas.clusters[i],tur.clusters[-1][i]) for i in range(k)]), \\nsum(clas.best == tur.best), end = \" | \")\\n\\nprint(max([dist(clas.clusters[i],standard.cluster_centers_[i]) for i in range(k)]), \\nsum(clas.best == standard.labels_), end = \" | \")\\n\\nprint(max([dist(clas.clusters[i],Elkan.cluster_centers_[i]) for i in range(k)]), \\nsum(clas.best == Elkan.labels_), end = \" | \")\\n'"
      ]
     },
     "execution_count": 6,
     "metadata": {},
     "output_type": "execute_result"
    }
   ],
   "source": [
    "\n",
    "        \n",
    "'''\n",
    "start = clock()\n",
    "standard = KMeans(n_clusters = k, init = data[:k].copy(), \n",
    "                  algorithm = 'full', n_init = 1, tol = 0.,\n",
    "                  precompute_distances = False).fit(data)\n",
    "std_t = clock() - start\n",
    "print(\"{:.4}\".format(std_t).ljust(8), end = \" | \")\n",
    "\n",
    "start = clock()\n",
    "Elkan = KMeans(n_clusters = k, init = data[:k].copy(), \n",
    "               algorithm = 'elkan', n_init = 1, tol = 0., \n",
    "               precompute_distances = False).fit(data) \n",
    "Elkan_t = clock() - start\n",
    "print(\"{:.4}\".format(std_t/Elkan_t).ljust(8))\n",
    "\n",
    "\n",
    "\n",
    "print(max([dist(clas.clusters[i],yin.clusters[i]) for i in range(k)]), \n",
    "       sum(clas.best == yin.best), end = \" | \")\n",
    "\n",
    "print(max([dist(clas.clusters[i],my.clusters[-1][i]) for i in range(k)]), \n",
    "       sum(clas.best == my.best), end = \" | \")\n",
    "\n",
    "print(max([dist(clas.clusters[i],tur.clusters[-1][i]) for i in range(k)]), \n",
    "       sum(clas.best == tur.best), end = \" | \")\n",
    "\n",
    "print(max([dist(clas.clusters[i],standard.cluster_centers_[i]) for i in range(k)]), \n",
    "       sum(clas.best == standard.labels_), end = \" | \")\n",
    "\n",
    "print(max([dist(clas.clusters[i],Elkan.cluster_centers_[i]) for i in range(k)]), \n",
    "       sum(clas.best == Elkan.labels_), end = \" | \")\n",
    "'''\n",
    "        \n"
   ]
  },
  {
   "cell_type": "code",
   "execution_count": null,
   "metadata": {
    "collapsed": true
   },
   "outputs": [],
   "source": []
  }
 ],
 "metadata": {
  "anaconda-cloud": {},
  "kernelspec": {
   "display_name": "Python [conda root]",
   "language": "python",
   "name": "conda-root-py"
  },
  "language_info": {
   "codemirror_mode": {
    "name": "ipython",
    "version": 3
   },
   "file_extension": ".py",
   "mimetype": "text/x-python",
   "name": "python",
   "nbconvert_exporter": "python",
   "pygments_lexer": "ipython3",
   "version": "3.5.2"
  }
 },
 "nbformat": 4,
 "nbformat_minor": 1
}
